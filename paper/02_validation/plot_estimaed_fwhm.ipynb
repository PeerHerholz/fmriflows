{
 "cells": [
  {
   "cell_type": "code",
   "execution_count": null,
   "metadata": {},
   "outputs": [],
   "source": [
    "%matplotlib inline\n",
    "import pandas as pd\n",
    "import matplotlib.pyplot as plt\n",
    "import seaborn as sns\n",
    "from matplotlib.patches import Rectangle"
   ]
  },
  {
   "cell_type": "code",
   "execution_count": null,
   "metadata": {},
   "outputs": [],
   "source": [
    "df = pd.read_csv('summary_fwhm.csv', sep=';')"
   ]
  },
  {
   "cell_type": "code",
   "execution_count": null,
   "metadata": {},
   "outputs": [],
   "source": [
    "norm_id = pd.unique(df.Datasets)\n",
    "norm_id"
   ]
  },
  {
   "cell_type": "code",
   "execution_count": null,
   "metadata": {},
   "outputs": [],
   "source": [
    "norm_factor = [2.0, 3.5, 3.0]"
   ]
  },
  {
   "cell_type": "code",
   "execution_count": null,
   "metadata": {},
   "outputs": [],
   "source": [
    "for i in range(len(norm_id)):\n",
    "    df.loc[df['Datasets']==norm_id[i],'FWHM'] /= norm_factor[i] "
   ]
  },
  {
   "cell_type": "code",
   "execution_count": null,
   "metadata": {},
   "outputs": [],
   "source": [
    "df.columns"
   ]
  },
  {
   "cell_type": "code",
   "execution_count": null,
   "metadata": {},
   "outputs": [],
   "source": [
    "df.groupby('Methods').describe()"
   ]
  },
  {
   "cell_type": "code",
   "execution_count": null,
   "metadata": {},
   "outputs": [],
   "source": [
    "fig, ax = plt.subplots(figsize=(12, 10))\n",
    "sns.set_context(\"talk\")\n",
    "sns.stripplot(x='Datasets',\n",
    "              y='FWHM',\n",
    "              hue=\"Methods\",\n",
    "              palette='pastel',\n",
    "              data=df,\n",
    "              order=['TR2000', 'TR1000', 'TR600'],\n",
    "              jitter=True,\n",
    "              dodge=True,\n",
    "              edgecolor='black',\n",
    "              linewidth=0.5,\n",
    "              size=6,\n",
    "              alpha=0.8)\n",
    "parts = sns.violinplot(x=\"Datasets\",\n",
    "               y=\"FWHM\",\n",
    "               hue=\"Methods\",\n",
    "               palette='pastel',\n",
    "               data=df,\n",
    "               order=['TR2000', 'TR1000', 'TR600'],\n",
    "               inner='quartile',\n",
    "               bw=.33,\n",
    "               ax=ax,\n",
    "               linewidth=3)\n",
    "\n",
    "# Set color value of quartile values\n",
    "def set_linestyle(parts, i=0, color='black'):\n",
    "    for l in parts.lines[i::3]:\n",
    "        l.set_color(color)\n",
    "        l.set_linestyle('-')\n",
    "        l.set_zorder(100)\n",
    "        \n",
    "set_linestyle(parts, i=0, color='black')\n",
    "set_linestyle(parts, i=1, color='red')\n",
    "set_linestyle(parts, i=2, color='black')\n",
    "\n",
    "# Create legend boxes\n",
    "cmap = sns.color_palette('pastel', n_colors=5)\n",
    "ll, ur = ax.get_position() * fig.get_size_inches()\n",
    "width, height = ur - ll\n",
    "axes_ratio = height / width\n",
    "aspect = axes_ratio / ax.get_data_ratio()\n",
    "\n",
    "ax.add_patch(Rectangle((0.29, 1.83), 0.08, 0.08/aspect, facecolor=cmap[0], edgecolor='gray'))\n",
    "ax.add_patch(Rectangle((0.29, 1.79), 0.08, 0.08/aspect, facecolor=cmap[1], edgecolor='gray'))\n",
    "ax.add_patch(Rectangle((0.29, 1.75), 0.08, 0.08/aspect, facecolor=cmap[2], edgecolor='gray'))\n",
    "ax.add_patch(Rectangle((0.29, 1.71), 0.08, 0.08/aspect, facecolor=cmap[3], edgecolor='gray'))\n",
    "ax.add_patch(Rectangle((0.29, 1.67), 0.08, 0.08/aspect, facecolor=cmap[4], edgecolor='gray'))\n",
    "\n",
    "# Write legend text\n",
    "cmap = sns.color_palette('muted', n_colors=5)\n",
    "ax.text(0.29, 1.88, 'Methods', ha='left', color='black', weight='bold', fontsize=20)\n",
    "ax.text(0.4, 1.835, 'fMRIflows (0.2 Hz)', ha='left', color=cmap[0])\n",
    "ax.text(0.4, 1.795, 'fMRIflows (no LP)', ha='left', color=cmap[1])\n",
    "ax.text(0.4, 1.755, 'fMRIPrep', ha='left', color=cmap[2])\n",
    "ax.text(0.4, 1.715, 'FSL', ha='left', color=cmap[3])\n",
    "ax.text(0.4, 1.675, 'SPM', ha='left', color=cmap[4])\n",
    "\n",
    "# Finalize figure and save it as SVG file\n",
    "sns.despine(top=True, right=True)\n",
    "ax.get_legend().remove()\n",
    "plt.xlabel('Dataset')\n",
    "plt.ylabel('FWHM / 1mm³')\n",
    "plt.rcParams.update({'font.size': 30})\n",
    "plt.tight_layout()\n",
    "plt.savefig('summary_fwhm.svg')\n",
    "plt.savefig('summary_fwhm.png')"
   ]
  }
 ],
 "metadata": {
  "kernelspec": {
   "display_name": "Python 3",
   "language": "python",
   "name": "python3"
  },
  "language_info": {
   "codemirror_mode": {
    "name": "ipython",
    "version": 3
   },
   "file_extension": ".py",
   "mimetype": "text/x-python",
   "name": "python",
   "nbconvert_exporter": "python",
   "pygments_lexer": "ipython3",
   "version": "3.7.1"
  }
 },
 "nbformat": 4,
 "nbformat_minor": 2
}
